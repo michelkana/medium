{
 "cells": [
  {
   "cell_type": "code",
   "execution_count": 1,
   "metadata": {
    "_cell_guid": "b1076dfc-b9ad-4769-8c92-a6c4dae69d19",
    "_uuid": "8f2839f25d086af736a60e9eeb907d3b93b6e0e5"
   },
   "outputs": [
    {
     "name": "stdout",
     "output_type": "stream",
     "text": [
      "['.ipynb_checkpoints', 'atis-dataset-from-ms-cntk.ipynb', 'atis.dict.intent.csv', 'atis.dict.slots.csv', 'atis.dict.vocab.csv', 'atis.test.intent.csv', 'atis.test.pkl', 'atis.test.query.csv', 'atis.test.slots.csv', 'atis.train.intent.csv', 'atis.train.pkl', 'atis.train.query.csv', 'atis.train.slots.csv', 'atis.zip']\n"
     ]
    }
   ],
   "source": [
    "# This Python 3 environment comes with many helpful analytics libraries installed\n",
    "# It is defined by the kaggle/python docker image: https://github.com/kaggle/docker-python\n",
    "# For example, here's several helpful packages to load in \n",
    "\n",
    "import numpy as np # linear algebra\n",
    "import pandas as pd # data processing, CSV file I/O (e.g. pd.read_csv)\n",
    "\n",
    "# Input data files are available in the \"../input/\" directory.\n",
    "# For example, running this (by clicking run or pressing Shift+Enter) will list the files in the input directory\n",
    "\n",
    "import os\n",
    "print(os.listdir(\".\"))\n",
    "\n",
    "\n",
    "# Any results you write to the current directory are saved as output."
   ]
  },
  {
   "cell_type": "code",
   "execution_count": 2,
   "metadata": {
    "_cell_guid": "79c7e3d0-c299-4dcb-8224-4455121ee9b0",
    "_uuid": "d629ff2d2480ee46fbb7e2d37f6b5fab8052498a"
   },
   "outputs": [],
   "source": [
    "import pickle\n",
    "\n",
    "DATA_DIR=\".\"\n",
    "\n",
    "def load_ds(fname='atis.train.pkl'):\n",
    "    with open(fname, 'rb') as stream:\n",
    "        ds,dicts = pickle.load(stream)\n",
    "    print('Done  loading: ', fname)\n",
    "    print('      samples: {:4d}'.format(len(ds['query'])))\n",
    "    print('   vocab_size: {:4d}'.format(len(dicts['token_ids'])))\n",
    "    print('   slot count: {:4d}'.format(len(dicts['slot_ids'])))\n",
    "    print(' intent count: {:4d}'.format(len(dicts['intent_ids'])))\n",
    "    return ds,dicts"
   ]
  },
  {
   "cell_type": "markdown",
   "metadata": {
    "_uuid": "76d15c0334726765bc4a3cffbe2e1e682af333d0"
   },
   "source": [
    "# Load ATIS Dataset"
   ]
  },
  {
   "cell_type": "code",
   "execution_count": null,
   "metadata": {
    "_uuid": "5a78b50f452f13a326b3ebcc485c93de83d6819f",
    "scrolled": false
   },
   "outputs": [],
   "source": [
    "train_ds, dicts = load_ds(os.path.join(DATA_DIR,'atis.train.pkl'))\n",
    "test_ds, dicts  = load_ds(os.path.join(DATA_DIR,'atis.test.pkl'))"
   ]
  },
  {
   "cell_type": "code",
   "execution_count": 15,
   "metadata": {},
   "outputs": [
    {
     "data": {
      "text/plain": [
       "array([178, 916, 429, 228, 244, 444, 682, 851, 247, 654, 845, 606, 179],\n",
       "      dtype=int64)"
      ]
     },
     "execution_count": 15,
     "metadata": {},
     "output_type": "execute_result"
    }
   ],
   "source": [
    "query[1]"
   ]
  },
  {
   "cell_type": "code",
   "execution_count": 16,
   "metadata": {},
   "outputs": [
    {
     "data": {
      "text/plain": [
       "'BOS round trip fares from pittsburgh to philadelphia under 1000 dollars EOS'"
      ]
     },
     "execution_count": 16,
     "metadata": {},
     "output_type": "execute_result"
    }
   ],
   "source": [
    "' '.join(map(i2t.get, query[i]))"
   ]
  },
  {
   "cell_type": "code",
   "execution_count": 17,
   "metadata": {},
   "outputs": [
    {
     "data": {
      "text/plain": [
       "'EOS'"
      ]
     },
     "execution_count": 17,
     "metadata": {},
     "output_type": "execute_result"
    }
   ],
   "source": [
    "i2t[query[i][j]]"
   ]
  },
  {
   "cell_type": "markdown",
   "metadata": {
    "_uuid": "d6b5ee8accdd6c0a0c15ac13f7c0113974da86ef",
    "collapsed": true
   },
   "source": [
    "# Show first few samples"
   ]
  },
  {
   "cell_type": "code",
   "execution_count": 20,
   "metadata": {
    "_uuid": "9e9c5e179960c912d587454d88bf5a434f0045b4"
   },
   "outputs": [
    {
     "name": "stdout",
     "output_type": "stream",
     "text": [
      "   0:         flight: BOS i want to fly from boston at 838 am and arrive in denver at 1110 in the morning EOS\n",
      "                              BOS                                        O\n",
      "                                i                                        O\n",
      "                             want                                        O\n",
      "                               to                                        O\n",
      "                              fly                                        O\n",
      "                             from                                        O\n",
      "                           boston                      B-fromloc.city_name\n",
      "                               at                                        O\n",
      "                              838                       B-depart_time.time\n",
      "                               am                       I-depart_time.time\n",
      "                              and                                        O\n",
      "                           arrive                                        O\n",
      "                               in                                        O\n",
      "                           denver                        B-toloc.city_name\n",
      "                               at                                        O\n",
      "                             1110                       B-arrive_time.time\n",
      "                               in                                        O\n",
      "                              the                                        O\n",
      "                          morning              B-arrive_time.period_of_day\n",
      "                              EOS                                        O\n",
      "**************************************************************************\n",
      "   1:         flight: BOS what flights are available from pittsburgh to baltimore on thursday morning EOS\n",
      "                              BOS                                        O\n",
      "                             what                                        O\n",
      "                          flights                                        O\n",
      "                              are                                        O\n",
      "                        available                                        O\n",
      "                             from                                        O\n",
      "                       pittsburgh                      B-fromloc.city_name\n",
      "                               to                                        O\n",
      "                        baltimore                        B-toloc.city_name\n",
      "                               on                                        O\n",
      "                         thursday                   B-depart_date.day_name\n",
      "                          morning              B-depart_time.period_of_day\n",
      "                              EOS                                        O\n",
      "**************************************************************************\n",
      "   2:    flight_time: BOS what is the arrival time in san francisco for the 755 am flight leaving washington EOS\n",
      "                              BOS                                        O\n",
      "                             what                                        O\n",
      "                               is                                        O\n",
      "                              the                                        O\n",
      "                          arrival                            B-flight_time\n",
      "                             time                            I-flight_time\n",
      "                               in                                        O\n",
      "                              san                      B-fromloc.city_name\n",
      "                        francisco                      I-fromloc.city_name\n",
      "                              for                                        O\n",
      "                              the                                        O\n",
      "                              755                       B-depart_time.time\n",
      "                               am                       I-depart_time.time\n",
      "                           flight                                        O\n",
      "                          leaving                                        O\n",
      "                       washington                      B-fromloc.city_name\n",
      "                              EOS                                        O\n",
      "**************************************************************************\n",
      "   3:        airfare: BOS cheapest airfare from tacoma to orlando EOS\n",
      "                              BOS                                        O\n",
      "                         cheapest                          B-cost_relative\n",
      "                          airfare                                        O\n",
      "                             from                                        O\n",
      "                           tacoma                      B-fromloc.city_name\n",
      "                               to                                        O\n",
      "                          orlando                        B-toloc.city_name\n",
      "                              EOS                                        O\n",
      "**************************************************************************\n",
      "   4:        airfare: BOS round trip fares from pittsburgh to philadelphia under 1000 dollars EOS\n",
      "                              BOS                                        O\n",
      "                            round                             B-round_trip\n",
      "                             trip                             I-round_trip\n",
      "                            fares                                        O\n",
      "                             from                                        O\n",
      "                       pittsburgh                      B-fromloc.city_name\n",
      "                               to                                        O\n",
      "                     philadelphia                        B-toloc.city_name\n",
      "                            under                          B-cost_relative\n",
      "                             1000                            B-fare_amount\n",
      "                          dollars                            I-fare_amount\n",
      "                              EOS                                        O\n",
      "**************************************************************************\n"
     ]
    }
   ],
   "source": [
    "t2i, s2i, in2i = map(dicts.get, ['token_ids', 'slot_ids','intent_ids'])\n",
    "i2t, i2s, i2in = map(lambda d: {d[k]:k for k in d.keys()}, [t2i,s2i,in2i])\n",
    "query, slots, intent =  map(train_ds.get, ['query', 'slot_labels', 'intent_labels'])\n",
    "\n",
    "for i in range(5):\n",
    "    print('{:4d}:{:>15}: {}'.format(i, i2in[intent[i][0]],\n",
    "                                    ' '.join(map(i2t.get, query[i]))))\n",
    "    for j in range(len(query[i])):\n",
    "        print('{:>33} {:>40}'.format(i2t[query[i][j]],\n",
    "                                     i2s[slots[i][j]]  ))\n",
    "    print('*'*74)"
   ]
  },
  {
   "cell_type": "code",
   "execution_count": 28,
   "metadata": {
    "_uuid": "9e0d95bad4cdcf0495f4d48d15ccf7bb3a37aa0a"
   },
   "outputs": [
    {
     "name": "stdout",
     "output_type": "stream",
     "text": [
      "BOS i want to fly from boston at 838 am and arrive in denver at 1110 in the morning EOS\n",
      "[178 479 902 851 431 444 266 240 168 210 215 236 482 351 240  27 482 827\n",
      " 606 179]\n",
      "flight O O O O O O B-fromloc.city_name O B-depart_time.time I-depart_time.time O O O B-toloc.city_name O B-arrive_time.time O O B-arrive_time.period_of_day O\n",
      "[14, 128, 128, 128, 128, 128, 128, 48, 128, 35, 100, 128, 128, 128, 78, 128, 14, 128, 128, 12, 128]\n",
      "**************************************************************************\n",
      "BOS what flights are available from pittsburgh to baltimore on thursday morning EOS\n",
      "[178 916 429 228 244 444 682 851 247 654 845 606 179]\n",
      "flight O O O O O O B-fromloc.city_name O B-toloc.city_name O B-depart_date.day_name B-depart_time.period_of_day O\n",
      "[14, 128, 128, 128, 128, 128, 128, 48, 128, 78, 128, 26, 33, 128]\n",
      "**************************************************************************\n",
      "BOS what is the arrival time in san francisco for the 755 am flight leaving washington EOS\n",
      "[178 916 498 827 234 849 482 739 440 435 827 154 210 428 539 905 179]\n",
      "flight_time O O O O B-flight_time I-flight_time O B-fromloc.city_name I-fromloc.city_name O O B-depart_time.time I-depart_time.time O O B-fromloc.city_name O\n",
      "[19, 128, 128, 128, 128, 45, 108, 128, 48, 110, 128, 128, 35, 100, 128, 128, 48, 128]\n",
      "**************************************************************************\n",
      "BOS cheapest airfare from tacoma to orlando EOS\n",
      "[178 296 197 444 810 851 667 179]\n",
      "airfare O B-cost_relative O O B-fromloc.city_name O B-toloc.city_name O\n",
      "[3, 128, 21, 128, 128, 48, 128, 78, 128]\n",
      "**************************************************************************\n",
      "BOS round trip fares from pittsburgh to philadelphia under 1000 dollars EOS\n",
      "[178 730 870 415 444 682 851 678 886  12 378 179]\n",
      "airfare O B-round_trip I-round_trip O O B-fromloc.city_name O B-toloc.city_name B-cost_relative B-fare_amount I-fare_amount O\n",
      "[3, 128, 66, 119, 128, 128, 48, 128, 78, 21, 38, 103, 128]\n",
      "**************************************************************************\n"
     ]
    }
   ],
   "source": [
    "t2i, s2i, in2i = map(dicts.get, ['token_ids', 'slot_ids','intent_ids'])\n",
    "i2t, i2s, i2in = map(lambda d: {d[k]:k for k in d.keys()}, [t2i,s2i,in2i])\n",
    "query, slots, intent =  map(train_ds.get, ['query', 'slot_labels', 'intent_labels'])\n",
    "\n",
    "for i in range(5):\n",
    "    print(' '.join(map(i2t.get, query[i])))\n",
    "    print(query[i])\n",
    "    s = []\n",
    "    s2 = [intent[i][0]]\n",
    "    for j in range(len(query[i])):\n",
    "        #print('{:>33} {:>40}'.format(i2t[query[i][j]],\n",
    "        #                             i2s[slots[i][j]]  ))\n",
    "        s.append(i2s[slots[i][j]])\n",
    "        s2.append(slots[i][j])\n",
    "    print(i2in[intent[i][0]], ' '.join(s))\n",
    "    print(s2)\n",
    "    print('*'*74)"
   ]
  },
  {
   "cell_type": "code",
   "execution_count": 25,
   "metadata": {},
   "outputs": [
    {
     "data": {
      "text/plain": [
       "array([3], dtype=int64)"
      ]
     },
     "execution_count": 25,
     "metadata": {},
     "output_type": "execute_result"
    }
   ],
   "source": [
    "intent[i]"
   ]
  },
  {
   "cell_type": "code",
   "execution_count": 23,
   "metadata": {},
   "outputs": [
    {
     "data": {
      "text/plain": [
       "128"
      ]
     },
     "execution_count": 23,
     "metadata": {},
     "output_type": "execute_result"
    }
   ],
   "source": [
    "slots[i][j]"
   ]
  },
  {
   "cell_type": "code",
   "execution_count": 24,
   "metadata": {},
   "outputs": [
    {
     "data": {
      "text/plain": [
       "'I-transport_type'"
      ]
     },
     "execution_count": 24,
     "metadata": {},
     "output_type": "execute_result"
    }
   ],
   "source": [
    "i2s[127]"
   ]
  },
  {
   "cell_type": "code",
   "execution_count": null,
   "metadata": {},
   "outputs": [],
   "source": []
  }
 ],
 "metadata": {
  "kernelspec": {
   "display_name": "Python 3",
   "language": "python",
   "name": "python3"
  },
  "language_info": {
   "codemirror_mode": {
    "name": "ipython",
    "version": 3
   },
   "file_extension": ".py",
   "mimetype": "text/x-python",
   "name": "python",
   "nbconvert_exporter": "python",
   "pygments_lexer": "ipython3",
   "version": "3.6.6"
  }
 },
 "nbformat": 4,
 "nbformat_minor": 1
}
